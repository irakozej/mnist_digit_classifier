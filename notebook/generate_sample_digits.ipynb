{
 "cells": [
  {
   "cell_type": "code",
   "execution_count": 1,
   "metadata": {},
   "outputs": [
    {
     "name": "stderr",
     "output_type": "stream",
     "text": [
      "2025-08-02 17:08:47.000320: I tensorflow/core/platform/cpu_feature_guard.cc:210] This TensorFlow binary is optimized to use available CPU instructions in performance-critical operations.\n",
      "To enable the following instructions: AVX2 FMA, in other operations, rebuild TensorFlow with the appropriate compiler flags.\n"
     ]
    },
    {
     "name": "stdout",
     "output_type": "stream",
     "text": [
      "✅ Sample digit images saved to 'sample_digits/' folder.\n"
     ]
    }
   ],
   "source": [
    "import tensorflow as tf\n",
    "import matplotlib.pyplot as plt\n",
    "from pathlib import Path\n",
    "\n",
    "# Load MNIST test set\n",
    "(_, _), (x_test, y_test) = tf.keras.datasets.mnist.load_data()\n",
    "\n",
    "# Create output folder\n",
    "output_dir = Path(\"sample_digits\")\n",
    "output_dir.mkdir(exist_ok=True)\n",
    "\n",
    "# Extract one image per class (0–9)\n",
    "saved = set()\n",
    "for img, label in zip(x_test, y_test):\n",
    "    if label not in saved:\n",
    "        plt.imsave(output_dir / f\"digit_{label}.png\", img, cmap=\"gray\")\n",
    "        saved.add(label)\n",
    "    if len(saved) == 10:\n",
    "        break\n",
    "\n",
    "print(\"✅ Sample digit images saved to 'sample_digits/' folder.\")\n"
   ]
  }
 ],
 "metadata": {
  "kernelspec": {
   "display_name": "venv",
   "language": "python",
   "name": "python3"
  },
  "language_info": {
   "codemirror_mode": {
    "name": "ipython",
    "version": 3
   },
   "file_extension": ".py",
   "mimetype": "text/x-python",
   "name": "python",
   "nbconvert_exporter": "python",
   "pygments_lexer": "ipython3",
   "version": "3.10.13"
  }
 },
 "nbformat": 4,
 "nbformat_minor": 2
}
